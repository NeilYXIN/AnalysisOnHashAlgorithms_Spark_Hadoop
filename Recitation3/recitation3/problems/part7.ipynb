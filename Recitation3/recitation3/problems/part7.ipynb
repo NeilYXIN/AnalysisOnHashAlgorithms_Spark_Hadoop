{
 "cells": [
  {
   "cell_type": "code",
   "execution_count": 534,
   "metadata": {},
   "outputs": [],
   "source": [
    "import pyspark\n",
    "import cPickle\n",
    "from operator import add\n",
    "import numpy as np\n",
    "from pyspark.sql import SparkSession\n",
    "from pyspark.mllib.linalg.distributed import CoordinateMatrix, MatrixEntry"
   ]
  },
  {
   "cell_type": "code",
   "execution_count": 535,
   "metadata": {},
   "outputs": [],
   "source": [
    "try:\n",
    "    sc.stop()\n",
    "except:\n",
    "    pass\n",
    "sc = pyspark.SparkContext(appName=\"readmatrix\")\n",
    "ss = SparkSession(sc)"
   ]
  },
  {
   "cell_type": "code",
   "execution_count": 536,
   "metadata": {},
   "outputs": [],
   "source": [
    "myRDD = sc.textFile(\"file:///usr/local/hadoop/Recitation2/recitation3/problems/part3/part-00000\", 10)"
   ]
  },
  {
   "cell_type": "code",
   "execution_count": 537,
   "metadata": {},
   "outputs": [
    {
     "data": {
      "text/plain": [
       "10"
      ]
     },
     "execution_count": 537,
     "metadata": {},
     "output_type": "execute_result"
    }
   ],
   "source": [
    "myRDD.getNumPartitions()"
   ]
  },
  {
   "cell_type": "code",
   "execution_count": 538,
   "metadata": {
    "scrolled": true
   },
   "outputs": [
    {
     "name": "stdout",
     "output_type": "stream",
     "text": [
      "[u'A 0 52 1', u'A 1 59 1', u'A 10 86 1', u'A 11 92 1', u'A 12 39 1', u'A 13 44 1', u'A 14 57 1', u'A 15 55 1', u'A 16 95 1', u'A 17 15 1', u'A 18 9 1', u'A 19 5 1', u'A 2 20 1', u'A 20 99 1', u'A 21 51 1', u'A 22 83 1', u'A 23 46 1', u'A 24 75 1', u'A 25 27 1', u'A 26 73 1']\n"
     ]
    }
   ],
   "source": [
    "print myRDD.take(20) # get first 20 values"
   ]
  },
  {
   "cell_type": "code",
   "execution_count": null,
   "metadata": {},
   "outputs": [],
   "source": []
  },
  {
   "cell_type": "code",
   "execution_count": 556,
   "metadata": {},
   "outputs": [],
   "source": [
    "def formatting(value):\n",
    "    vals = value.strip().split(' ')\n",
    "    return (str(vals[0]),MatrixEntry(long(vals[1]),long(vals[2]),float(vals[3])))\n"
   ]
  },
  {
   "cell_type": "code",
   "execution_count": 557,
   "metadata": {},
   "outputs": [],
   "source": [
    "formatRDD = myRDD.map(formatting)\n"
   ]
  },
  {
   "cell_type": "code",
   "execution_count": 558,
   "metadata": {},
   "outputs": [
    {
     "name": "stdout",
     "output_type": "stream",
     "text": [
      "[('A', MatrixEntry(0, 52, 1.0)), ('A', MatrixEntry(1, 59, 1.0)), ('A', MatrixEntry(10, 86, 1.0)), ('A', MatrixEntry(11, 92, 1.0)), ('A', MatrixEntry(12, 39, 1.0)), ('A', MatrixEntry(13, 44, 1.0)), ('A', MatrixEntry(14, 57, 1.0)), ('A', MatrixEntry(15, 55, 1.0)), ('A', MatrixEntry(16, 95, 1.0)), ('A', MatrixEntry(17, 15, 1.0))]\n"
     ]
    }
   ],
   "source": [
    "print formatRDD.take(10)"
   ]
  },
  {
   "cell_type": "code",
   "execution_count": 616,
   "metadata": {},
   "outputs": [],
   "source": [
    "aRDD = formatRDD.map(lambda x: x[1] if x[0]=='A' else 0).filter(lambda x:x!=0).collect()\n",
    "bRDD = formatRDD.map(lambda x: x[1] if x[0]=='B' else 0).filter(lambda x:x!=0).collect()"
   ]
  },
  {
   "cell_type": "code",
   "execution_count": 656,
   "metadata": {},
   "outputs": [
    {
     "name": "stdout",
     "output_type": "stream",
     "text": [
      "[MatrixEntry(0, 52, 1.0), MatrixEntry(1, 59, 1.0), MatrixEntry(10, 86, 1.0), MatrixEntry(11, 92, 1.0), MatrixEntry(12, 39, 1.0), MatrixEntry(13, 44, 1.0), MatrixEntry(14, 57, 1.0), MatrixEntry(15, 55, 1.0), MatrixEntry(16, 95, 1.0), MatrixEntry(17, 15, 1.0), MatrixEntry(18, 9, 1.0), MatrixEntry(19, 5, 1.0), MatrixEntry(2, 20, 1.0), MatrixEntry(20, 99, 1.0), MatrixEntry(21, 51, 1.0), MatrixEntry(22, 83, 1.0), MatrixEntry(23, 46, 1.0), MatrixEntry(24, 75, 1.0), MatrixEntry(25, 27, 1.0), MatrixEntry(26, 73, 1.0), MatrixEntry(27, 22, 1.0), MatrixEntry(28, 78, 1.0), MatrixEntry(29, 21, 1.0), MatrixEntry(3, 69, 1.0), MatrixEntry(30, 53, 1.0), MatrixEntry(31, 72, 1.0), MatrixEntry(32, 61, 1.0), MatrixEntry(33, 14, 1.0), MatrixEntry(34, 0, 1.0), MatrixEntry(35, 8, 1.0), MatrixEntry(36, 6, 1.0), MatrixEntry(37, 23, 1.0), MatrixEntry(38, 58, 1.0), MatrixEntry(39, 74, 1.0), MatrixEntry(4, 63, 1.0), MatrixEntry(40, 16, 1.0), MatrixEntry(41, 26, 1.0), MatrixEntry(42, 80, 1.0), MatrixEntry(43, 48, 1.0), MatrixEntry(44, 50, 1.0), MatrixEntry(45, 2, 1.0), MatrixEntry(46, 81, 1.0), MatrixEntry(47, 56, 1.0), MatrixEntry(48, 45, 1.0), MatrixEntry(49, 37, 1.0), MatrixEntry(5, 91, 1.0), MatrixEntry(50, 70, 1.0), MatrixEntry(51, 90, 1.0), MatrixEntry(52, 62, 1.0), MatrixEntry(53, 33, 1.0), MatrixEntry(54, 79, 1.0), MatrixEntry(55, 3, 1.0), MatrixEntry(56, 11, 1.0), MatrixEntry(57, 76, 1.0), MatrixEntry(58, 29, 1.0), MatrixEntry(59, 68, 1.0), MatrixEntry(6, 38, 1.0), MatrixEntry(60, 54, 1.0), MatrixEntry(61, 7, 1.0), MatrixEntry(62, 71, 1.0), MatrixEntry(63, 97, 1.0), MatrixEntry(64, 64, 1.0), MatrixEntry(65, 25, 1.0), MatrixEntry(66, 94, 1.0), MatrixEntry(67, 13, 1.0), MatrixEntry(68, 65, 1.0), MatrixEntry(69, 49, 1.0), MatrixEntry(7, 10, 1.0), MatrixEntry(70, 89, 1.0), MatrixEntry(71, 85, 1.0), MatrixEntry(72, 88, 1.0), MatrixEntry(73, 93, 1.0), MatrixEntry(74, 34, 1.0), MatrixEntry(75, 43, 1.0), MatrixEntry(76, 66, 1.0), MatrixEntry(77, 77, 1.0), MatrixEntry(78, 87, 1.0), MatrixEntry(79, 30, 1.0), MatrixEntry(8, 40, 1.0), MatrixEntry(80, 42, 1.0), MatrixEntry(81, 41, 1.0), MatrixEntry(82, 96, 1.0), MatrixEntry(83, 17, 1.0), MatrixEntry(84, 36, 1.0), MatrixEntry(85, 1, 1.0), MatrixEntry(86, 4, 1.0), MatrixEntry(87, 19, 1.0), MatrixEntry(88, 24, 1.0), MatrixEntry(89, 32, 1.0), MatrixEntry(9, 82, 1.0), MatrixEntry(90, 98, 1.0), MatrixEntry(91, 28, 1.0), MatrixEntry(92, 67, 1.0), MatrixEntry(93, 31, 1.0), MatrixEntry(94, 18, 1.0), MatrixEntry(95, 12, 1.0), MatrixEntry(96, 47, 1.0), MatrixEntry(97, 84, 1.0), MatrixEntry(98, 35, 1.0), MatrixEntry(99, 60, 1.0)]\n"
     ]
    }
   ],
   "source": [
    "print aRDD"
   ]
  },
  {
   "cell_type": "code",
   "execution_count": 655,
   "metadata": {},
   "outputs": [
    {
     "name": "stdout",
     "output_type": "stream",
     "text": [
      "[MatrixEntry(0, 34, 1.0), MatrixEntry(1, 85, 1.0), MatrixEntry(10, 7, 1.0), MatrixEntry(11, 56, 1.0), MatrixEntry(12, 95, 1.0), MatrixEntry(13, 67, 1.0), MatrixEntry(14, 33, 1.0), MatrixEntry(15, 17, 1.0), MatrixEntry(16, 40, 1.0), MatrixEntry(17, 83, 1.0), MatrixEntry(18, 94, 1.0), MatrixEntry(19, 87, 1.0), MatrixEntry(2, 45, 1.0), MatrixEntry(20, 2, 1.0), MatrixEntry(21, 29, 1.0), MatrixEntry(22, 27, 1.0), MatrixEntry(23, 37, 1.0), MatrixEntry(24, 88, 1.0), MatrixEntry(25, 65, 1.0), MatrixEntry(26, 41, 1.0), MatrixEntry(27, 25, 1.0), MatrixEntry(28, 91, 1.0), MatrixEntry(29, 58, 1.0), MatrixEntry(3, 55, 1.0), MatrixEntry(30, 79, 1.0), MatrixEntry(31, 93, 1.0), MatrixEntry(32, 89, 1.0), MatrixEntry(33, 53, 1.0), MatrixEntry(34, 74, 1.0), MatrixEntry(35, 98, 1.0), MatrixEntry(36, 84, 1.0), MatrixEntry(37, 49, 1.0), MatrixEntry(38, 6, 1.0), MatrixEntry(39, 12, 1.0), MatrixEntry(4, 86, 1.0), MatrixEntry(40, 8, 1.0), MatrixEntry(41, 81, 1.0), MatrixEntry(42, 80, 1.0), MatrixEntry(43, 75, 1.0), MatrixEntry(44, 13, 1.0), MatrixEntry(45, 48, 1.0), MatrixEntry(46, 23, 1.0), MatrixEntry(47, 96, 1.0), MatrixEntry(48, 43, 1.0), MatrixEntry(49, 69, 1.0), MatrixEntry(5, 19, 1.0), MatrixEntry(50, 44, 1.0), MatrixEntry(51, 21, 1.0), MatrixEntry(52, 0, 1.0), MatrixEntry(53, 30, 1.0), MatrixEntry(54, 60, 1.0), MatrixEntry(55, 15, 1.0), MatrixEntry(56, 47, 1.0), MatrixEntry(57, 14, 1.0), MatrixEntry(58, 38, 1.0), MatrixEntry(59, 1, 1.0), MatrixEntry(6, 36, 1.0), MatrixEntry(60, 99, 1.0), MatrixEntry(61, 32, 1.0), MatrixEntry(62, 52, 1.0), MatrixEntry(63, 4, 1.0), MatrixEntry(64, 64, 1.0), MatrixEntry(65, 68, 1.0), MatrixEntry(66, 76, 1.0), MatrixEntry(67, 92, 1.0), MatrixEntry(68, 59, 1.0), MatrixEntry(69, 3, 1.0), MatrixEntry(7, 61, 1.0), MatrixEntry(70, 50, 1.0), MatrixEntry(71, 62, 1.0), MatrixEntry(72, 31, 1.0), MatrixEntry(73, 26, 1.0), MatrixEntry(74, 39, 1.0), MatrixEntry(75, 24, 1.0), MatrixEntry(76, 57, 1.0), MatrixEntry(77, 77, 1.0), MatrixEntry(78, 28, 1.0), MatrixEntry(79, 54, 1.0), MatrixEntry(8, 35, 1.0), MatrixEntry(80, 42, 1.0), MatrixEntry(81, 46, 1.0), MatrixEntry(82, 9, 1.0), MatrixEntry(83, 22, 1.0), MatrixEntry(84, 97, 1.0), MatrixEntry(85, 71, 1.0), MatrixEntry(86, 10, 1.0), MatrixEntry(87, 78, 1.0), MatrixEntry(88, 72, 1.0), MatrixEntry(89, 70, 1.0), MatrixEntry(9, 18, 1.0), MatrixEntry(90, 51, 1.0), MatrixEntry(91, 5, 1.0), MatrixEntry(92, 11, 1.0), MatrixEntry(93, 73, 1.0), MatrixEntry(94, 66, 1.0), MatrixEntry(95, 16, 1.0), MatrixEntry(96, 82, 1.0), MatrixEntry(97, 63, 1.0), MatrixEntry(98, 90, 1.0), MatrixEntry(99, 20, 1.0)]\n"
     ]
    }
   ],
   "source": [
    "print bRDD"
   ]
  },
  {
   "cell_type": "code",
   "execution_count": 621,
   "metadata": {},
   "outputs": [],
   "source": [
    "entriesa = sc.parallelize(aRDD)\n",
    "entriesb = sc.parallelize(bRDD)"
   ]
  },
  {
   "cell_type": "code",
   "execution_count": 622,
   "metadata": {},
   "outputs": [],
   "source": [
    "mata = CoordinateMatrix(entriesa)\n",
    "matb = CoordinateMatrix(entriesb)"
   ]
  },
  {
   "cell_type": "code",
   "execution_count": 624,
   "metadata": {},
   "outputs": [
    {
     "name": "stdout",
     "output_type": "stream",
     "text": [
      "100 100\n",
      "100 100\n"
     ]
    }
   ],
   "source": [
    "# Get its size.\n",
    "ma = mata.numRows()  # 3\n",
    "na = mata.numCols()  # 2\n",
    "print ma,na\n",
    "mb = matb.numRows()  # 3\n",
    "nb = matb.numCols()  # 2\n",
    "print mb,nb"
   ]
  },
  {
   "cell_type": "code",
   "execution_count": 627,
   "metadata": {},
   "outputs": [],
   "source": [
    "\n",
    "# Get the entries as an RDD of MatrixEntries.\n",
    "entriesaRDD = mata.entries\n",
    "entriesbRDD = matb.entries\n"
   ]
  },
  {
   "cell_type": "code",
   "execution_count": 633,
   "metadata": {},
   "outputs": [
    {
     "name": "stdout",
     "output_type": "stream",
     "text": [
      "<pyspark.mllib.linalg.distributed.CoordinateMatrix object at 0x7f5835fc7d10>\n"
     ]
    }
   ],
   "source": [
    "print(CoordinateMatrix(entriesa))"
   ]
  },
  {
   "cell_type": "code",
   "execution_count": 642,
   "metadata": {},
   "outputs": [],
   "source": [
    "rowMata = mata.toRowMatrix()\n",
    "rowMatb = matb.toRowMatrix()"
   ]
  },
  {
   "cell_type": "code",
   "execution_count": 643,
   "metadata": {},
   "outputs": [
    {
     "name": "stdout",
     "output_type": "stream",
     "text": [
      "100 100\n",
      "100 100\n"
     ]
    }
   ],
   "source": [
    "mra = rowMata.numRows() \n",
    "nra = rowMata.numCols() \n",
    "print mra,nra\n",
    "mrb = rowMatb.numRows()\n",
    "nrb = rowMatb.numCols()\n",
    "print mrb,nrb\n",
    "# Get the rows as an RDD of vectors again.\n",
    "rowsRDDa = rowMata.rows\n",
    "rowsRDDb = rowMatb.rows"
   ]
  },
  {
   "cell_type": "code",
   "execution_count": 653,
   "metadata": {},
   "outputs": [
    {
     "name": "stdout",
     "output_type": "stream",
     "text": [
      "[SparseVector(100, {36: 1.0}), SparseVector(100, {47: 1.0}), SparseVector(100, {62: 1.0}), SparseVector(100, {11: 1.0}), SparseVector(100, {63: 1.0}), SparseVector(100, {66: 1.0}), SparseVector(100, {95: 1.0}), SparseVector(100, {78: 1.0}), SparseVector(100, {42: 1.0}), SparseVector(100, {45: 1.0}), SparseVector(100, {61: 1.0}), SparseVector(100, {6: 1.0}), SparseVector(100, {52: 1.0}), SparseVector(100, {75: 1.0}), SparseVector(100, {64: 1.0}), SparseVector(100, {67: 1.0}), SparseVector(100, {16: 1.0}), SparseVector(100, {88: 1.0}), SparseVector(100, {99: 1.0}), SparseVector(100, {39: 1.0}), SparseVector(100, {40: 1.0}), SparseVector(100, {54: 1.0}), SparseVector(100, {50: 1.0}), SparseVector(100, {24: 1.0}), SparseVector(100, {65: 1.0}), SparseVector(100, {44: 1.0}), SparseVector(100, {26: 1.0}), SparseVector(100, {7: 1.0}), SparseVector(100, {41: 1.0}), SparseVector(100, {51: 1.0}), SparseVector(100, {77: 1.0}), SparseVector(100, {33: 1.0}), SparseVector(100, {84: 1.0}), SparseVector(100, {27: 1.0}), SparseVector(100, {21: 1.0}), SparseVector(100, {25: 1.0}), SparseVector(100, {93: 1.0}), SparseVector(100, {76: 1.0}), SparseVector(100, {31: 1.0}), SparseVector(100, {14: 1.0}), SparseVector(100, {23: 1.0}), SparseVector(100, {2: 1.0}), SparseVector(100, {59: 1.0}), SparseVector(100, {32: 1.0}), SparseVector(100, {15: 1.0}), SparseVector(100, {49: 1.0}), SparseVector(100, {82: 1.0}), SparseVector(100, {1: 1.0}), SparseVector(100, {37: 1.0}), SparseVector(100, {91: 1.0}), SparseVector(100, {0: 1.0}), SparseVector(100, {96: 1.0}), SparseVector(100, {94: 1.0}), SparseVector(100, {83: 1.0}), SparseVector(100, {79: 1.0}), SparseVector(100, {81: 1.0}), SparseVector(100, {35: 1.0}), SparseVector(100, {53: 1.0}), SparseVector(100, {57: 1.0}), SparseVector(100, {70: 1.0}), SparseVector(100, {71: 1.0}), SparseVector(100, {80: 1.0}), SparseVector(100, {34: 1.0}), SparseVector(100, {98: 1.0}), SparseVector(100, {38: 1.0}), SparseVector(100, {89: 1.0}), SparseVector(100, {9: 1.0}), SparseVector(100, {58: 1.0}), SparseVector(100, {4: 1.0}), SparseVector(100, {29: 1.0}), SparseVector(100, {87: 1.0}), SparseVector(100, {73: 1.0}), SparseVector(100, {86: 1.0}), SparseVector(100, {18: 1.0}), SparseVector(100, {20: 1.0}), SparseVector(100, {5: 1.0}), SparseVector(100, {74: 1.0}), SparseVector(100, {55: 1.0}), SparseVector(100, {56: 1.0}), SparseVector(100, {85: 1.0}), SparseVector(100, {3: 1.0}), SparseVector(100, {12: 1.0}), SparseVector(100, {30: 1.0}), SparseVector(100, {68: 1.0}), SparseVector(100, {92: 1.0}), SparseVector(100, {8: 1.0}), SparseVector(100, {22: 1.0}), SparseVector(100, {43: 1.0}), SparseVector(100, {90: 1.0}), SparseVector(100, {46: 1.0}), SparseVector(100, {97: 1.0}), SparseVector(100, {17: 1.0}), SparseVector(100, {13: 1.0}), SparseVector(100, {69: 1.0}), SparseVector(100, {10: 1.0}), SparseVector(100, {28: 1.0}), SparseVector(100, {72: 1.0}), SparseVector(100, {19: 1.0}), SparseVector(100, {48: 1.0}), SparseVector(100, {60: 1.0})]\n"
     ]
    }
   ],
   "source": [
    "print(rowsRDDa.collect())"
   ]
  },
  {
   "cell_type": "code",
   "execution_count": 654,
   "metadata": {},
   "outputs": [
    {
     "name": "stdout",
     "output_type": "stream",
     "text": [
      "[SparseVector(100, {97: 1.0}), SparseVector(100, {82: 1.0}), SparseVector(100, {0: 1.0}), SparseVector(100, {47: 1.0}), SparseVector(100, {86: 1.0}), SparseVector(100, {57: 1.0}), SparseVector(100, {40: 1.0}), SparseVector(100, {91: 1.0}), SparseVector(100, {42: 1.0}), SparseVector(100, {43: 1.0}), SparseVector(100, {89: 1.0}), SparseVector(100, {84: 1.0}), SparseVector(100, {34: 1.0}), SparseVector(100, {88: 1.0}), SparseVector(100, {64: 1.0}), SparseVector(100, {11: 1.0}), SparseVector(100, {8: 1.0}), SparseVector(100, {31: 1.0}), SparseVector(100, {2: 1.0}), SparseVector(100, {95: 1.0}), SparseVector(100, {35: 1.0}), SparseVector(100, {99: 1.0}), SparseVector(100, {13: 1.0}), SparseVector(100, {72: 1.0}), SparseVector(100, {59: 1.0}), SparseVector(100, {67: 1.0}), SparseVector(100, {81: 1.0}), SparseVector(100, {32: 1.0}), SparseVector(100, {46: 1.0}), SparseVector(100, {29: 1.0}), SparseVector(100, {77: 1.0}), SparseVector(100, {30: 1.0}), SparseVector(100, {63: 1.0}), SparseVector(100, {65: 1.0}), SparseVector(100, {58: 1.0}), SparseVector(100, {68: 1.0}), SparseVector(100, {26: 1.0}), SparseVector(100, {14: 1.0}), SparseVector(100, {73: 1.0}), SparseVector(100, {53: 1.0}), SparseVector(100, {49: 1.0}), SparseVector(100, {48: 1.0}), SparseVector(100, {85: 1.0}), SparseVector(100, {70: 1.0}), SparseVector(100, {83: 1.0}), SparseVector(100, {3: 1.0}), SparseVector(100, {18: 1.0}), SparseVector(100, {71: 1.0}), SparseVector(100, {69: 1.0}), SparseVector(100, {19: 1.0}), SparseVector(100, {74: 1.0}), SparseVector(100, {9: 1.0}), SparseVector(100, {76: 1.0}), SparseVector(100, {27: 1.0}), SparseVector(100, {60: 1.0}), SparseVector(100, {23: 1.0}), SparseVector(100, {90: 1.0}), SparseVector(100, {79: 1.0}), SparseVector(100, {33: 1.0}), SparseVector(100, {44: 1.0}), SparseVector(100, {52: 1.0}), SparseVector(100, {80: 1.0}), SparseVector(100, {39: 1.0}), SparseVector(100, {51: 1.0}), SparseVector(100, {36: 1.0}), SparseVector(100, {50: 1.0}), SparseVector(100, {94: 1.0}), SparseVector(100, {6: 1.0}), SparseVector(100, {10: 1.0}), SparseVector(100, {38: 1.0}), SparseVector(100, {28: 1.0}), SparseVector(100, {41: 1.0}), SparseVector(100, {7: 1.0}), SparseVector(100, {66: 1.0}), SparseVector(100, {45: 1.0}), SparseVector(100, {87: 1.0}), SparseVector(100, {12: 1.0}), SparseVector(100, {17: 1.0}), SparseVector(100, {96: 1.0}), SparseVector(100, {62: 1.0}), SparseVector(100, {15: 1.0}), SparseVector(100, {16: 1.0}), SparseVector(100, {54: 1.0}), SparseVector(100, {1: 1.0}), SparseVector(100, {56: 1.0}), SparseVector(100, {98: 1.0}), SparseVector(100, {25: 1.0}), SparseVector(100, {24: 1.0}), SparseVector(100, {21: 1.0}), SparseVector(100, {37: 1.0}), SparseVector(100, {4: 1.0}), SparseVector(100, {22: 1.0}), SparseVector(100, {92: 1.0}), SparseVector(100, {55: 1.0}), SparseVector(100, {61: 1.0}), SparseVector(100, {5: 1.0}), SparseVector(100, {93: 1.0}), SparseVector(100, {78: 1.0}), SparseVector(100, {75: 1.0}), SparseVector(100, {20: 1.0})]\n"
     ]
    }
   ],
   "source": [
    "print(rowsRDDb.collect())"
   ]
  },
  {
   "cell_type": "code",
   "execution_count": null,
   "metadata": {},
   "outputs": [],
   "source": []
  },
  {
   "cell_type": "code",
   "execution_count": null,
   "metadata": {},
   "outputs": [],
   "source": []
  },
  {
   "cell_type": "code",
   "execution_count": null,
   "metadata": {},
   "outputs": [],
   "source": []
  },
  {
   "cell_type": "code",
   "execution_count": null,
   "metadata": {},
   "outputs": [],
   "source": []
  }
 ],
 "metadata": {
  "kernelspec": {
   "display_name": "Python 2",
   "language": "python",
   "name": "python2"
  },
  "language_info": {
   "codemirror_mode": {
    "name": "ipython",
    "version": 2
   },
   "file_extension": ".py",
   "mimetype": "text/x-python",
   "name": "python",
   "nbconvert_exporter": "python",
   "pygments_lexer": "ipython2",
   "version": "2.7.12"
  }
 },
 "nbformat": 4,
 "nbformat_minor": 2
}
